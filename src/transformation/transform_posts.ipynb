{
 "cells": [
  {
   "cell_type": "code",
   "execution_count": null,
   "id": "1db11c3a",
   "metadata": {},
   "outputs": [],
   "source": [
    "from pyspark.sql.functions import length, col\n",
    "\n",
    "df= spark.table(\"lct.bronze.posts\")\n",
    "df= df.withColumn(\"title_length\", length(col(\"title\")))\n",
    "df= df.withColumn(\"body_length\", length(col(\"body\")))\n",
    "df.display()\n",
    "df.write.mode(\"overwrite\").option(\"mergeSchema\", \"true\").saveAsTable(\"lct.silver.posts\")\n",
    "print(\"Transformed posts.\")"
   ]
  }
 ],
 "metadata": {
  "language_info": {
   "name": "python"
  }
 },
 "nbformat": 4,
 "nbformat_minor": 5
}
