{
 "cells": [
  {
   "cell_type": "code",
   "execution_count": null,
   "id": "a57d94fb",
   "metadata": {},
   "outputs": [],
   "source": [
    "import requests\n",
    "from pyspark.sql.functions import current_timestamp\n",
    "\n",
    "\n",
    "print(\"Ingesting posts...\")\n",
    "def get_data(url):\n",
    "  response = requests.get(url)\n",
    "  return response.json()\n",
    "\n",
    "url= \"https://jsonplaceholder.typicode.com/posts\"\n",
    "\n",
    "data = get_data(url)\n",
    "\n",
    "df = spark.createDataFrame(data)\n",
    "df = df.withColumn(\"ingestion_time\", current_timestamp())\n",
    "df.write.mode(\"overwrite\").option(\"mergeSchema\", \"true\").saveAsTable(\"lct.bronze.posts\")\n",
    "print(\"Ingested posts\")"
   ]
  }
 ],
 "metadata": {
  "language_info": {
   "name": "python"
  }
 },
 "nbformat": 4,
 "nbformat_minor": 5
}
