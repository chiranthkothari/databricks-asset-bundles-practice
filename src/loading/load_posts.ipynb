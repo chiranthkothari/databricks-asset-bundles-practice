{
 "cells": [
  {
   "cell_type": "code",
   "execution_count": null,
   "id": "f31644bd",
   "metadata": {},
   "outputs": [],
   "source": [
    "from pyspark.sql import functions as f\n",
    "\n",
    "df= spark.table(\"lct.silver.posts\")\n",
    "\n",
    "df = df.groupBy(\"userId\").agg(f.sum(\"body_length\").alias(\"body_length\"), f.sum(\"title_length\").alias(\"title_length\")).orderBy(\"userId\")\n",
    "df.display()\n",
    "df.write.mode(\"overwrite\").option(\"mergeSchema\", \"true\").saveAsTable(\"lct.gold.post_lengths\")\n",
    "print(\"Loaded posts\")"
   ]
  }
 ],
 "metadata": {
  "language_info": {
   "name": "python"
  }
 },
 "nbformat": 4,
 "nbformat_minor": 5
}
